{
  "cells": [
    {
      "cell_type": "code",
      "execution_count": null,
      "id": "2ce5f51a",
      "metadata": {
        "colab": {
          "base_uri": "https://localhost:8080/"
        },
        "id": "2ce5f51a",
        "outputId": "0e06b9d0-b1c7-4c6f-eb6c-a99f90745866"
      },
      "outputs": [
        {
          "name": "stdout",
          "output_type": "stream",
          "text": [
            "Requirement already satisfied: import-ipynb in c:\\users\\ibrahem\\anaconda3\\lib\\site-packages (0.1.3)\n"
          ]
        }
      ],
      "source": [
        "# required to be able to import different notebooks\n",
        "!pip install import-ipynb\n",
        "import import_ipynb"
      ]
    },
    {
      "cell_type": "code",
      "execution_count": null,
      "id": "b2c23696",
      "metadata": {
        "id": "b2c23696",
        "outputId": "15efc452-d81f-4bb8-f929-a4921e180c9b"
      },
      "outputs": [
        {
          "name": "stdout",
          "output_type": "stream",
          "text": [
            "importing Jupyter notebook from utils.ipynb\n",
            "Requirement already satisfied: import-ipynb in c:\\users\\ibrahem\\anaconda3\\lib\\site-packages (0.1.3)\n",
            "importing Jupyter notebook from dataset.ipynb\n",
            "Requirement already satisfied: torch in c:\\users\\ibrahem\\appdata\\roaming\\python\\python39\\site-packages (1.10.2)\n",
            "Requirement already satisfied: torchvision in c:\\users\\ibrahem\\appdata\\roaming\\python\\python39\\site-packages (0.11.3)\n",
            "Requirement already satisfied: matplotlib in c:\\users\\ibrahem\\anaconda3\\lib\\site-packages (3.4.3)\n",
            "Requirement already satisfied: numpy in c:\\users\\ibrahem\\anaconda3\\lib\\site-packages (1.20.3)\n",
            "Requirement already satisfied: progressbar in c:\\users\\ibrahem\\appdata\\roaming\\python\\python39\\site-packages (2.5)\n",
            "Requirement already satisfied: typing-extensions in c:\\users\\ibrahem\\anaconda3\\lib\\site-packages (from torch) (3.10.0.2)\n",
            "Requirement already satisfied: pillow!=8.3.0,>=5.3.0 in c:\\users\\ibrahem\\anaconda3\\lib\\site-packages (from torchvision) (8.4.0)\n",
            "Requirement already satisfied: kiwisolver>=1.0.1 in c:\\users\\ibrahem\\anaconda3\\lib\\site-packages (from matplotlib) (1.3.1)\n",
            "Requirement already satisfied: python-dateutil>=2.7 in c:\\users\\ibrahem\\anaconda3\\lib\\site-packages (from matplotlib) (2.8.2)\n",
            "Requirement already satisfied: pyparsing>=2.2.1 in c:\\users\\ibrahem\\anaconda3\\lib\\site-packages (from matplotlib) (3.0.4)\n",
            "Requirement already satisfied: cycler>=0.10 in c:\\users\\ibrahem\\anaconda3\\lib\\site-packages (from matplotlib) (0.10.0)\n",
            "Requirement already satisfied: six in c:\\users\\ibrahem\\anaconda3\\lib\\site-packages (from cycler>=0.10->matplotlib) (1.16.0)\n",
            "importing Jupyter notebook from model.ipynb\n"
          ]
        }
      ],
      "source": [
        "# important libraries and notebooks\n",
        "import numpy as np\n",
        "import torch\n",
        "import torch.nn as nn\n",
        "import torch.optim as optim\n",
        "from tqdm import tqdm\n",
        "from utils import(\n",
        "    get_all_planes_dataloaders,# combine all planes datasets and return dataloader of the combined datasets\n",
        "    calc_accuracy,\n",
        "    calc_iou,\n",
        "    plot_metric,\n",
        "    save_predictions_as_imgs\n",
        "    )\n",
        "from model import UNET"
      ]
    },
    {
      "cell_type": "code",
      "execution_count": null,
      "id": "7a580557",
      "metadata": {
        "colab": {
          "base_uri": "https://localhost:8080/"
        },
        "id": "7a580557",
        "outputId": "c1d191c8-8c04-4720-c398-7986c1f5c062"
      },
      "outputs": [
        {
          "name": "stdout",
          "output_type": "stream",
          "text": [
            "Running on the CPU\n"
          ]
        }
      ],
      "source": [
        "# check if your system is runing or cpu or gpu\n",
        "if torch.cuda.is_available():\n",
        "    DEVICE = 'cuda:0'\n",
        "    print('Running on the GPU')\n",
        "else:\n",
        "    DEVICE = \"cpu\"\n",
        "    print('Running on the CPU')\n",
        "\n",
        "#important variables\n",
        "MODEL_PATH = 'model_all_data_10.pth.tar'\n",
        "LOAD_MODEL = True\n",
        "LEARNING_RATE = 0.001\n",
        "EPOCHS = 10"
      ]
    },
    {
      "cell_type": "code",
      "execution_count": null,
      "id": "5a982dd3",
      "metadata": {
        "id": "5a982dd3"
      },
      "outputs": [],
      "source": [
        "# this function is to train the model on all 3 planes' training data, it is called N number of epochs\n",
        "def train_model(train_data, model, optimizer, loss_fn, device):\n",
        "    train_loss = [] #hold all the losses based on training data for each patch, then we will get the mean loss for every epoch\n",
        "    acc = []  #hold all the accuracies based on training data for each patch, then we will get the mean accuracy for every epoch\n",
        "    ious = [] #hold all the mean ious based on training data for each patch, then we will get the mean iou for every epoch\n",
        "    data = tqdm(train_data)\n",
        "    for i, batch in enumerate(data):\n",
        "        #prepare data\n",
        "        X, y = batch\n",
        "        X = X.to(device) \n",
        "        y = y.long().squeeze(1).to(device)\n",
        "        #start training the model\n",
        "        model.train()\n",
        "        preds = model(X)\n",
        "        loss = loss_fn(preds, y)\n",
        "\n",
        "        train_loss.append(loss.item())\n",
        "        acc.append(calc_accuracy(preds, y))\n",
        "        ious.append(calc_iou(y, preds, 7))\n",
        "\n",
        "        optimizer.zero_grad()\n",
        "        loss.backward()\n",
        "        optimizer.step()\n",
        "\n",
        "    avg_loss = np.mean(train_loss)\n",
        "    avg_acc = np.mean(acc)\n",
        "    avg_iou = np.mean(ious)\n",
        "    return avg_loss, avg_acc, avg_iou, model"
      ]
    },
    {
      "cell_type": "code",
      "execution_count": null,
      "id": "RhC7lRewB8Ok",
      "metadata": {
        "id": "RhC7lRewB8Ok"
      },
      "outputs": [],
      "source": [
        "# this function is to evaluate the model on all 3planes' validation data, it is called N number of epochs directly after train function\n",
        "def evaluae_validaion(val_data, model, loss_fn, device):\n",
        "    val_loss = [] #hold all the losses based on validation data for each patch, then we will get the mean loss for every epoch\n",
        "    acc = []  #hold all the accuracies based on validation data for each patch, then we will get the mean accuracy for every epoch\n",
        "    ious = [] #hold all the mean ious based on validation data for each patch, then we will get the mean iou for every epoch\n",
        "    with torch.no_grad():\n",
        "        for i, batch in enumerate(tqdm(val_data)):\n",
        "            #prepare the data for model evaluating\n",
        "            X, y = batch\n",
        "            X = X.to(device)\n",
        "            y = y.long().squeeze(1).to(device)\n",
        "\n",
        "            model.eval()\n",
        "            preds = model(X)\n",
        "\n",
        "            val_loss.append(loss_fn(preds, y).item())\n",
        "            acc.append(calc_accuracy(preds, y))\n",
        "            ious.append(calc_iou(y, preds,7))\n",
        "      \n",
        "    avg_loss = np.mean(val_loss)\n",
        "    avg_acc = np.mean(acc)\n",
        "    avg_iou = np.mean(ious)\n",
        "    return avg_loss, avg_acc, avg_iou"
      ]
    },
    {
      "cell_type": "code",
      "execution_count": null,
      "id": "aqNOnHzoCi9D",
      "metadata": {
        "id": "aqNOnHzoCi9D"
      },
      "outputs": [],
      "source": [
        "# this function combine both train and evaluate functions in one function\n",
        "def train_val_model(train_data, val_data, model, optimizer, loss_fn, device):\n",
        "    avg_train_loss, avg_train_acc, avg_train_iou, model_ = train_model(train_data, model, optimizer, loss_fn, device)\n",
        "    avg_val_loss, avg_val_acc, avg_val_iou = evaluae_validaion(val_data, model_, loss_fn, device)\n",
        "    return avg_train_loss, avg_train_acc, avg_train_iou, avg_val_loss, avg_val_acc, avg_val_iou"
      ]
    },
    {
      "cell_type": "code",
      "execution_count": null,
      "id": "31551a28",
      "metadata": {
        "id": "31551a28"
      },
      "outputs": [],
      "source": [
        "# read the data \n",
        "train_loader, val_loader, test_loader = get_all_planes_dataloaders()\n",
        "# print('Data Loaded Successfully!')"
      ]
    },
    {
      "cell_type": "code",
      "execution_count": null,
      "id": "d8fefa3a",
      "metadata": {
        "id": "d8fefa3a"
      },
      "outputs": [],
      "source": [
        "def main():\n",
        "    global epoch\n",
        "    epoch = 0 \n",
        "    avg_loss_train = []\n",
        "    avg_loss_val = []\n",
        "    avg_acc_train = []\n",
        "    avg_acc_val = []\n",
        "    avg_iou_train = []\n",
        "    avg_iou_val = []\n",
        "    \n",
        "#     train_loader, val_loader, test_loader = get_all_planes_dataloaders()\n",
        "    print('Data Loaded Successfully!')\n",
        "\n",
        "    # Defining the model, optimizer and loss function\n",
        "    unet = UNET(in_channels=1, out_channels=7).to(DEVICE).train()\n",
        "    optimizer = optim.Adam(unet.parameters(), lr=LEARNING_RATE)\n",
        "    loss_function = nn.CrossEntropyLoss() \n",
        "\n",
        "    # Loading a previous stored model from MODEL_PATH variable\n",
        "    if LOAD_MODEL == True:\n",
        "        checkpoint = torch.load(MODEL_PATH, map_location='cpu')\n",
        "        unet.load_state_dict(checkpoint['model_state_dict'])\n",
        "        optimizer.load_state_dict(checkpoint['optim_state_dict'])\n",
        "        epoch = checkpoint['epoch']\n",
        "        avg_loss_train = checkpoint['avg_loss_train']\n",
        "        avg_acc_train = checkpoint['avg_acc_train']\n",
        "        avg_iou_train = checkpoint['avg_iou_train']\n",
        "        avg_loss_val = checkpoint['avg_loss_val']\n",
        "        avg_acc_val = checkpoint['avg_acc_val']\n",
        "        avg_iou_val = checkpoint['avg_iou_val']\n",
        "        print(\"Model successfully loaded!\")    \n",
        "\n",
        "    #Training the model for every epoch. \n",
        "    for e in range(epoch, EPOCHS):\n",
        "        print('Epoch ' + str(e+1))\n",
        "        avg_train_loss, avg_train_acc, avg_train_iou, avg_val_loss, avg_val_acc, avg_val_iou =\\\n",
        "         train_val_model(train_loader, val_loader, unet, optimizer, loss_function, DEVICE)\n",
        "        \n",
        "        avg_loss_train.append(avg_train_loss)\n",
        "        avg_acc_train.append(avg_train_acc)\n",
        "        avg_iou_train.append(avg_train_iou)\n",
        "        avg_loss_val.append(avg_val_loss)\n",
        "        avg_acc_val.append(avg_val_acc)\n",
        "        avg_iou_val.append(avg_val_iou)\n",
        "\n",
        "        print(\"epoch: \" + str(e+1), \" train_loss: \" + str(avg_train_loss), \" train_acc: \" + str(avg_train_acc), \" train_iou: \", str(avg_train_iou), \\\n",
        "              \" validation_loss: \" + str(avg_val_loss), \"val_acc: \" + str(avg_val_acc), \" val_iou: \", str(avg_val_iou))\n",
        "        #saving the model\n",
        "        torch.save({\n",
        "            'model_state_dict': unet.state_dict(),\n",
        "            'optim_state_dict': optimizer.state_dict(),\n",
        "            'epoch': e+1,\n",
        "            'avg_loss_train': avg_loss_train,\n",
        "            'avg_acc_train': avg_acc_train,\n",
        "            'avg_iou_train': avg_iou_train,\n",
        "            'avg_loss_val': avg_loss_val,\n",
        "            'avg_acc_val': avg_acc_val,\n",
        "            'avg_iou_val': avg_iou_val\n",
        "        }, MODEL_PATH)\n",
        "        print(\"Epoch completed and model successfully saved!\")\n",
        "\n",
        "    return avg_loss_train, avg_acc_train, avg_iou_train, avg_loss_val, avg_acc_val, avg_iou_val\n"
      ]
    },
    {
      "cell_type": "code",
      "execution_count": null,
      "id": "e925eb7b",
      "metadata": {
        "colab": {
          "base_uri": "https://localhost:8080/",
          "height": 380
        },
        "id": "e925eb7b",
        "outputId": "aae3480f-919d-4fbd-da28-7b734513471e"
      },
      "outputs": [
        {
          "name": "stdout",
          "output_type": "stream",
          "text": [
            "Data Loaded Successfully!\n",
            "Model successfully loaded!\n"
          ]
        }
      ],
      "source": [
        "if __name__ == '__main__':\n",
        "    avg_loss_train, avg_acc_train, avg_iou_train, avg_loss_val, avg_acc_val, avg_iou_val = main()"
      ]
    },
    {
      "cell_type": "code",
      "execution_count": null,
      "id": "YlLc4gUAnBLJ",
      "metadata": {
        "colab": {
          "base_uri": "https://localhost:8080/",
          "height": 295
        },
        "id": "YlLc4gUAnBLJ",
        "outputId": "be1dfa1d-8c62-4642-9b86-577315941c8b"
      },
      "outputs": [
        {
          "data": {
            "image/png": "[encoded data removed]",
            "text/plain": [
              "<Figure size 432x288 with 1 Axes>"
            ]
          },
          "metadata": {
            "needs_background": "light"
          },
          "output_type": "display_data"
        }
      ],
      "source": [
        "X = list(range(1, len(avg_loss_train)+1))\n",
        "# 1. plot loss of train and validation data\n",
        "plot_metric(X, avg_loss_train, avg_loss_val, \"train_loss\", \"val_loss\", \"number of epochs\", \"loss\", \"Train and Validation Loss\")"
      ]
    },
    {
      "cell_type": "code",
      "execution_count": null,
      "id": "YLuuW0d6Yw5X",
      "metadata": {
        "colab": {
          "base_uri": "https://localhost:8080/",
          "height": 295
        },
        "id": "YLuuW0d6Yw5X",
        "outputId": "e5083b8d-e44b-43c1-ba36-64ecba996a05"
      },
      "outputs": [
        {
          "data": {
            "image/png": "[encoded data removed]",
            "text/plain": [
              "<Figure size 432x288 with 1 Axes>"
            ]
          },
          "metadata": {
            "needs_background": "light"
          },
          "output_type": "display_data"
        }
      ],
      "source": [
        "# 2. plot accuracy of train and validation data\n",
        "plot_metric(X, avg_acc_train, avg_acc_val, \"train_acc\", \"val_acc\", \"number of epochs\", \"accuracy\", \"Train and Validation Accuracy\")"
      ]
    },
    {
      "cell_type": "code",
      "execution_count": null,
      "id": "4Kxt6Pg2Yw9_",
      "metadata": {
        "colab": {
          "base_uri": "https://localhost:8080/",
          "height": 295
        },
        "id": "4Kxt6Pg2Yw9_",
        "outputId": "54784b72-e462-41e7-b04d-7f71e35a00ea"
      },
      "outputs": [
        {
          "data": {
            "image/png": "[encoded data removed]",
            "text/plain": [
              "<Figure size 432x288 with 1 Axes>"
            ]
          },
          "metadata": {
            "needs_background": "light"
          },
          "output_type": "display_data"
        }
      ],
      "source": [
        "# 3. plot iou of train and validation data\n",
        "plot_metric(X, avg_iou_train, avg_iou_val, \"train_iou\", \"val_iou\", \"number of epochs\", \"iou\", \"Train and Validation IoU\")"
      ]
    },
    {
      "cell_type": "markdown",
      "id": "xzUWGQdergNb",
      "metadata": {
        "id": "xzUWGQdergNb"
      },
      "source": [
        "# Testing"
      ]
    },
    {
      "cell_type": "code",
      "source": [
        "## create 2 folders to hold the groundtruth masks and the predicted masks\n",
        "os.makedirs('predicted_masks')\n",
        "os.makedirs('true_masks')"
      ],
      "metadata": {
        "id": "XITRh4E4IOqU"
      },
      "id": "XITRh4E4IOqU",
      "execution_count": null,
      "outputs": []
    },
    {
      "cell_type": "code",
      "execution_count": null,
      "id": "aa13a934",
      "metadata": {
        "id": "aa13a934"
      },
      "outputs": [],
      "source": [
        "def get_predictions(data, model, num_class=7):\n",
        "    loss = []\n",
        "    acc = []\n",
        "    ious = []\n",
        "    loss_function = nn.CrossEntropyLoss()    \n",
        "    model.eval()\n",
        "    with torch.no_grad():\n",
        "        for idx, batch in enumerate(tqdm(data)):\n",
        "            X, y = batch\n",
        "            X, y = X.to(DEVICE), y.long().squeeze(1).to(DEVICE)\n",
        "            predictions = model(X)\n",
        "\n",
        "            loss.append(loss_function(predictions, y).item())\n",
        "            acc.append(calc_accuracy(predictions, y)) \n",
        "            ious.append(calc_iou(y, predictions, num_class))\n",
        "\n",
        "            predictions = torch.nn.functional.softmax(predictions, dim=1)\n",
        "            pred_labels = torch.argmax(predictions, dim=1) \n",
        "            pred_labels = pred_labels.float()\n",
        "            \n",
        "            mask_name = \"pred_\" + str(idx)\n",
        "            save_predictions_as_imgs(pred_labels, mask_name, \"predicted_masks\") #save predicted masks as jpg images into predicted_masks folder \n",
        "            img_name = \"true_\" + str(idx)\n",
        "            save_predictions_as_imgs(y.float(), img_name, \"true_masks\")#save ground truth masks as jpg images into true_masks folder\n",
        "            \n",
        "    avg_loss = np.mean(loss)\n",
        "    avg_acc = np.mean(acc)\n",
        "    avg_iou = np.mean(ious)\n",
        "    return avg_loss, avg_acc, avg_iou"
      ]
    },
    {
      "cell_type": "code",
      "execution_count": null,
      "id": "LNCdwh7hq6_n",
      "metadata": {
        "id": "LNCdwh7hq6_n"
      },
      "outputs": [],
      "source": [
        "def test(path, test_data, num_class=7):\n",
        "    net = UNET(in_channels=1, out_channels=num_class).to(DEVICE)\n",
        "    checkpoint = torch.load(path, map_location='cpu')\n",
        "    net.load_state_dict(checkpoint['model_state_dict'])\n",
        "    print(f'{path} has been loaded and initialized')\n",
        "    avg_loss, avg_acc, avg_iou = get_predictions(test_data, net)\n",
        "    print(\"Model testing completed...\")\n",
        "    print(\"loss: \", str(avg_loss), \"  accuracy: \", str(avg_acc), \" Iou: \", str(avg_iou))"
      ]
    },
    {
      "cell_type": "code",
      "execution_count": null,
      "id": "9fd1afcf",
      "metadata": {
        "id": "9fd1afcf",
        "outputId": "fe87a339-c8e2-481d-b34b-8a2bf29db7c7"
      },
      "outputs": [
        {
          "name": "stdout",
          "output_type": "stream",
          "text": [
            "model_all_data_10.pth.tar has been loaded and initialized\n"
          ]
        },
        {
          "name": "stderr",
          "output_type": "stream",
          "text": [
            "100%|██████████| 391/391 [1:40:29<00:00, 15.42s/it]\n"
          ]
        },
        {
          "name": "stdout",
          "output_type": "stream",
          "text": [
            "Model testing completed...\n",
            "loss:  0.04797510811558846   accuracy:  0.9889101091858066  Iou:  0.29397068108360014\n"
          ]
        }
      ],
      "source": [
        "test(MODEL_PATH, test_loader, 7)"
      ]
    },
    {
      "cell_type": "code",
      "execution_count": null,
      "id": "79882706",
      "metadata": {
        "id": "79882706"
      },
      "outputs": [],
      "source": [
        ""
      ]
    }
  ],
  "metadata": {
    "accelerator": "GPU",
    "colab": {
      "collapsed_sections": [],
      "name": "train_all_planes.ipynb",
      "provenance": []
    },
    "kernelspec": {
      "display_name": "Python 3 (ipykernel)",
      "language": "python",
      "name": "python3"
    },
    "language_info": {
      "codemirror_mode": {
        "name": "ipython",
        "version": 3
      },
      "file_extension": ".py",
      "mimetype": "text/x-python",
      "name": "python",
      "nbconvert_exporter": "python",
      "pygments_lexer": "ipython3",
      "version": "3.9.7"
    }
  },
  "nbformat": 4,
  "nbformat_minor": 5
}