{
 "cells": [
  {
   "cell_type": "code",
   "execution_count": 1,
   "id": "4c6486de",
   "metadata": {
    "colab": {
     "base_uri": "https://localhost:8080/"
    },
    "id": "4c6486de",
    "outputId": "0849bb28-8487-4559-afcb-ccff000e9ef3"
   },
   "outputs": [
    {
     "name": "stdout",
     "output_type": "stream",
     "text": [
      "Requirement already satisfied: import-ipynb in c:\\users\\ibrahem\\anaconda3\\lib\\site-packages (0.1.3)\n"
     ]
    }
   ],
   "source": [
    "# required to be able to import different notebooks\n",
    "!pip install import-ipynb\n",
    "import import_ipynb"
   ]
  },
  {
   "cell_type": "code",
   "execution_count": null,
   "id": "D-YdeFoGEiw9",
   "metadata": {
    "id": "D-YdeFoGEiw9"
   },
   "outputs": [],
   "source": [
    "# important libraries and notebooks\n",
    "import matplotlib.pyplot as plt\n",
    "import torch\n",
    "import torchvision\n",
    "from dataset import(\n",
    "    get_plane_datasets,\n",
    "    get_plane_dataloader\n",
    ")"
   ]
  },
  {
   "cell_type": "code",
   "execution_count": null,
   "id": "32bcbdde",
   "metadata": {
    "id": "32bcbdde"
   },
   "outputs": [],
   "source": [
    "# this method is used incase of train a model with only one planetype instead of the 3 together\n",
    "# it returns the training, validation and testing dataloaders for a specific plane type\n",
    "def get_plane_loader(plane_type=\"axial\"):\n",
    "    train_dataset, validation_dataset, test_dataset = get_plane_datasets(plane_type)\n",
    "    train_loader, val_loader, test_loader = get_plane_dataloader(train_dataset, validation_dataset, test_dataset)\n",
    "\n",
    "    return train_loader, val_loader, test_loader"
   ]
  },
  {
   "cell_type": "code",
   "execution_count": 2,
   "id": "ccdf2442",
   "metadata": {
    "id": "ccdf2442"
   },
   "outputs": [],
   "source": [
    "# Functions to save predictions as images\n",
    "def save_predictions_as_imgs(mask, mask_name, folder=\"saved_images/\", device=\"cuda\"):\n",
    "    torchvision.utils.save_image(mask.unsqueeze(1), f\"{folder}/{mask_name}.jpg\")"
   ]
  },
  {
   "cell_type": "code",
   "execution_count": null,
   "id": "beXYY0wV-0zN",
   "metadata": {
    "id": "beXYY0wV-0zN"
   },
   "outputs": [],
   "source": [
    "# methodto concatunate datasets together to merge all planes datasets in one\n",
    "def concat_datasets(dataset_1, dataset_2):\n",
    "    dataset = torch.utils.data.ConcatDataset([dataset_1, dataset_2])\n",
    "    return dataset"
   ]
  },
  {
   "cell_type": "code",
   "execution_count": null,
   "id": "a74b936a",
   "metadata": {
    "id": "a74b936a"
   },
   "outputs": [],
   "source": [
    "def get_all_planes_dataloaders():\n",
    "  # get all three planes three datasets (train, validation, and test)\n",
    "    axial_train_dataset, axial_validation_dataset, axial_test_dataset = get_plane_datasets(\"axial\")\n",
    "    coronal_train_dataset, coronal_validation_dataset, coronal_test_dataset = get_plane_datasets(\"coronal\")\n",
    "    sagittal_train_dataset, sagittal_validation_dataset, sagittal_test_dataset = get_plane_datasets(\"sagittal\")\n",
    "\n",
    "  #combine datasets of all 3 planes(axial, coronal, and sagittal)\n",
    "  # 1. combine train datasets inside train_ds\n",
    "    dataset = concat_datasets(axial_train_dataset, coronal_train_dataset)\n",
    "    train_ds = concat_datasets(dataset, sagittal_train_dataset)\n",
    "  # 2. combine validation datasets inside val_ds\n",
    "    dataset = concat_datasets(axial_validation_dataset, coronal_validation_dataset)\n",
    "    val_ds = concat_datasets(dataset, sagittal_validation_dataset)\n",
    "  # 3. combine test datasets inside test_ds\n",
    "    dataset = concat_datasets(axial_test_dataset, coronal_test_dataset)\n",
    "    test_ds = concat_datasets(dataset, sagittal_test_dataset)\n",
    "  \n",
    "  # get dataloaders of all data\n",
    "    train_loader, val_loader, test_loader = get_plane_dataloader(train_ds, val_ds, test_ds)\n",
    "    return train_loader, val_loader, test_loader"
   ]
  },
  {
   "cell_type": "code",
   "execution_count": null,
   "id": "PCFdK7ZVBwy7",
   "metadata": {
    "id": "PCFdK7ZVBwy7"
   },
   "outputs": [],
   "source": [
    "# calculate accuracy for multiclass segmentation, this function is called for every patch\n",
    "def calc_accuracy(pred, label):\n",
    "    probs = torch.log_softmax(pred, dim = 1)\n",
    "    _, tags = torch.max(probs, dim = 1)\n",
    "    corrects = torch.eq(tags,label).float()\n",
    "    acc = corrects.sum()/corrects.numel()\n",
    "    return acc.item()"
   ]
  },
  {
   "cell_type": "code",
   "execution_count": null,
   "id": "qDGN57sFByZ2",
   "metadata": {
    "id": "qDGN57sFByZ2"
   },
   "outputs": [],
   "source": [
    "# calculate mean Iou for multiclass segmentation, this function is called for every patch\n",
    "def calc_iou(label, pred, classes=7): \n",
    "    pred = torch.nn.functional.softmax(pred, dim=1)              \n",
    "    pred = torch.argmax(pred, dim=1).squeeze(1)\n",
    "    patch_iou = 0.0\n",
    "    class_iou = 0.0\n",
    "    pred = pred.view(-1)\n",
    "    label = label.view(-1)\n",
    "\n",
    "    for class_ in range(classes):\n",
    "        pred_inds = (pred == class_)\n",
    "        target_inds = (label == class_)\n",
    "        if target_inds.long().sum().item() == 0:\n",
    "            class_iou = 0\n",
    "        else: \n",
    "            class_intersection = (pred_inds[target_inds]).long().sum().item()\n",
    "            class_union = pred_inds.long().sum().item() + target_inds.long().sum().item() - class_intersection\n",
    "            class_iou = float(class_intersection) / float(class_union)#calc the mean iou for each class in a given patch\n",
    "\n",
    "        patch_iou += class_iou\n",
    "    patch_iou /= classes\n",
    "    return patch_iou #return the mean iou of the means ious for each class "
   ]
  },
  {
   "cell_type": "code",
   "execution_count": null,
   "id": "jFhChkkDVMOU",
   "metadata": {
    "id": "jFhChkkDVMOU"
   },
   "outputs": [],
   "source": [
    "#this method is used to plot lines of training and validation (accuracy, Iou, loss)\n",
    "def plot_metric(X, y1, y2, y1_label, y2_label, x_label, y_label, title):\n",
    "    plt.plot(X, y1, label = y1_label, marker='o')\n",
    "    plt.plot(X, y2, label = y2_label, marker='o')\n",
    "    plt.xlabel(x_label)\n",
    "    plt.ylabel(y_label)\n",
    "    plt.title(title)\n",
    "    plt.legend()\n",
    "    plt.show()"
   ]
  }
 ],
 "metadata": {
  "colab": {
   "collapsed_sections": [],
   "name": "utils.ipynb",
   "provenance": []
  },
  "kernelspec": {
   "display_name": "Python 3 (ipykernel)",
   "language": "python",
   "name": "python3"
  },
  "language_info": {
   "codemirror_mode": {
    "name": "ipython",
    "version": 3
   },
   "file_extension": ".py",
   "mimetype": "text/x-python",
   "name": "python",
   "nbconvert_exporter": "python",
   "pygments_lexer": "ipython3",
   "version": "3.9.7"
  }
 },
 "nbformat": 4,
 "nbformat_minor": 5
}
